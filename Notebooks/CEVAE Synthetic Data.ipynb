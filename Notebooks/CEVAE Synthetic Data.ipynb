{
 "cells": [
  {
   "cell_type": "code",
   "execution_count": 5,
   "metadata": {
    "collapsed": true
   },
   "outputs": [],
   "source": [
    "import numpy as np\n",
    "from scipy.special import expit"
   ]
  },
  {
   "cell_type": "code",
   "execution_count": 17,
   "metadata": {
    "collapsed": true
   },
   "outputs": [],
   "source": [
    "n = 20\n",
    "samples = 1000\n",
    "\n",
    "sigma_z0 = 3\n",
    "sigma_z1 = 5\n",
    "\n",
    "def get_samples(samples, n):\n",
    "    z = np.random.binomial(1, 0.5, (samples, n))\n",
    "    x = np.random.normal(z, sigma_z1 ** 2 * z + sigma_z0 ** 2 * (1 - z))\n",
    "t = np.random.binomial(1, 0.75 * z + 0.25 * (1 - z))\n",
    "y = np.random.binomial(1, expit(3 * (z + 4 * t - 2)))"
   ]
  },
  {
   "cell_type": "code",
   "execution_count": 20,
   "metadata": {},
   "outputs": [],
   "source": []
  },
  {
   "cell_type": "code",
   "execution_count": 30,
   "metadata": {},
   "outputs": [],
   "source": [
    "mu1 = 0.75 * expit(9) + 0.25 * expit(6)\n",
    "mu0 = 0.25 * expit(-3) + 0.75 * expit(-6) "
   ]
  },
  {
   "cell_type": "code",
   "execution_count": null,
   "metadata": {
    "collapsed": true
   },
   "outputs": [],
   "source": []
  }
 ],
 "metadata": {
  "anaconda-cloud": {},
  "kernelspec": {
   "display_name": "Python [conda env:py36]",
   "language": "python",
   "name": "conda-env-py36-py"
  },
  "language_info": {
   "codemirror_mode": {
    "name": "ipython",
    "version": 3
   },
   "file_extension": ".py",
   "mimetype": "text/x-python",
   "name": "python",
   "nbconvert_exporter": "python",
   "pygments_lexer": "ipython3",
   "version": "3.6.3"
  }
 },
 "nbformat": 4,
 "nbformat_minor": 2
}
